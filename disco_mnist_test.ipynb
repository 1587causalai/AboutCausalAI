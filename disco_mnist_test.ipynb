{
  "nbformat": 4,
  "nbformat_minor": 0,
  "metadata": {
    "colab": {
      "provenance": [],
      "gpuType": "T4",
      "toc_visible": true,
      "authorship_tag": "ABX9TyMPiJL9u+BX8FEGciYWYYpH",
      "include_colab_link": true
    },
    "kernelspec": {
      "name": "python3",
      "display_name": "Python 3"
    },
    "language_info": {
      "name": "python"
    },
    "accelerator": "GPU"
  },
  "cells": [
    {
      "cell_type": "markdown",
      "metadata": {
        "id": "view-in-github",
        "colab_type": "text"
      },
      "source": [
        "<a href=\"https://colab.research.google.com/github/1587causalai/AboutCausalAI/blob/master/disco_mnist_test.ipynb\" target=\"_parent\"><img src=\"https://colab.research.google.com/assets/colab-badge.svg\" alt=\"Open In Colab\"/></a>"
      ]
    },
    {
      "cell_type": "markdown",
      "source": [
        "# DiscoSCM mnist"
      ],
      "metadata": {
        "id": "jP8TW-_Kq9Um"
      }
    },
    {
      "cell_type": "markdown",
      "source": [
        "## data"
      ],
      "metadata": {
        "id": "YpLWfrU4rIc6"
      }
    },
    {
      "cell_type": "code",
      "execution_count": 2,
      "metadata": {
        "id": "PmtjdXkoueVH"
      },
      "outputs": [],
      "source": [
        "#构建一个类线性模型类，继承自nn.Module,nn.m中封装了许多方法\n",
        "#本模型所用的包含库\n",
        "import torch\n",
        "import torch.nn as nn\n",
        "import torch.nn.functional as F\n",
        "import matplotlib.pyplot as plt\n",
        "import torchvision\n",
        "import numpy as np\n",
        "import torch.optim as optim\n",
        "from torch.utils.data import Dataset    #这是一个抽象类，无法实例化\n",
        "from torch.utils.data import DataLoader\n",
        "from torchvision import transforms\n",
        "from torchvision import datasets\n",
        "import os\n",
        "#构建一个compose类的实例，包含转tensor（张量），后面那个是标准化，两个参数分别是均值和标准差\n",
        "train_transform = transforms.Compose([\n",
        "                                transforms.RandomAffine(degrees = 0,translate=(0.1, 0.1)),#对照片进行随机平移\n",
        "                                transforms.RandomRotation((-10,10)),        #随机旋转\n",
        "                                transforms.ToTensor(),\n",
        "                                transforms.Normalize((0.1307,),(0.3081,))])\n",
        "test_transform = transforms.Compose([transforms.ToTensor(),\n",
        "                                    transforms.Normalize((0.1307,),(0.3081,))])\n",
        "#这2个值也是调参重灾区……\n",
        "train_batch_size = 256\n",
        "learning_rate = 0.06\n",
        "test_batch_size = 100\n",
        "random_seed = 2         # 随机种子，设置后可以得到稳定的随机数\n",
        "torch.manual_seed(random_seed)\n",
        "torch.cuda.manual_seed_all(random_seed) #为gpu提供随机数\n",
        "train_dataset = datasets.MNIST(root='./dataset/mnist/', train=True, download=True, transform=train_transform)\n",
        "test_dataset = datasets.MNIST(root='./dataset/mnist/', train=False, download=True, transform=test_transform)\n",
        "train_loader = DataLoader(dataset=train_dataset,batch_size=train_batch_size,shuffle=True,pin_memory=True)\n",
        "test_loader = DataLoader(dataset=test_dataset,batch_size=test_batch_size,shuffle=False,pin_memory=True)"
      ]
    },
    {
      "cell_type": "markdown",
      "source": [
        "## model"
      ],
      "metadata": {
        "id": "iXfSs-isrMTt"
      }
    },
    {
      "cell_type": "code",
      "source": [
        "class ResidualBlock(nn.Module):\n",
        "    # Residual Block需要保证输出和输入通道数x一样\n",
        "    def __init__(self, channels):\n",
        "        super(ResidualBlock, self).__init__()\n",
        "        self.channels = channels\n",
        "        # 3*3卷积核，保证图像大小不变将padding设为1\n",
        "        # 第一个卷积\n",
        "        self.conv1 = nn.Conv2d(channels, channels,\n",
        "                               kernel_size=3, padding=1)\n",
        "        # 第二个卷积\n",
        "        self.conv2 = nn.Conv2d(channels, channels,\n",
        "                               kernel_size=3, padding=1)\n",
        "        #第三个卷积，1*1\n",
        "        self.conv3 = nn.Conv2d(channels, channels, kernel_size=1)\n",
        "\n",
        "    def forward(self, x):\n",
        "        # 激活\n",
        "        y = F.relu(self.conv1(x))\n",
        "        y = self.conv2(y)\n",
        "        # 先求和 后激活\n",
        "        z = self.conv3(x)\n",
        "        return F.relu(z + y)"
      ],
      "metadata": {
        "id": "PGkHAio2uqmx"
      },
      "execution_count": 3,
      "outputs": []
    },
    {
      "cell_type": "code",
      "source": [
        "class Net(nn.Module):\n",
        "    def __init__(self):\n",
        "        super(Net, self).__init__()\n",
        "        #卷积层\n",
        "        self.conv1 = nn.Conv2d(1  ,32, kernel_size=5,padding=2)\n",
        "        self.conv2 = nn.Conv2d(32 ,64, kernel_size=5,padding=2)\n",
        "        self.conv3 = nn.Conv2d(64 ,128,kernel_size=5,padding=2)\n",
        "        self.conv4 = nn.Conv2d(128,192,kernel_size=5,padding=2)\n",
        "\n",
        "        #残差神经网络层，其中已经包含了relu\n",
        "        self.rblock1 = ResidualBlock(32)\n",
        "        self.rblock2 = ResidualBlock(64)\n",
        "        self.rblock3 = ResidualBlock(128)\n",
        "        self.rblock4 = ResidualBlock(192)\n",
        "\n",
        "        #BN层，归一化，使数据在进行Relu之前不会因为数据过大而导致网络性能的不稳定\n",
        "        self.bn1 = nn.BatchNorm2d(32)\n",
        "        self.bn2 = nn.BatchNorm2d(64)\n",
        "        self.bn3 = nn.BatchNorm2d(128)\n",
        "        self.bn4 = nn.BatchNorm2d(192)\n",
        "\n",
        "        #最大池化，一般最大池化效果都比平均池化好些\n",
        "        self.mp = nn.MaxPool2d(2)\n",
        "\n",
        "        #fully connectected全连接层\n",
        "        self.fc1 = nn.Linear(192*7*7, 256)  # 线性\n",
        "        self.fc6 = nn.Linear(256, 10)  # 线性\n",
        "\n",
        "    def forward(self, x):\n",
        "        in_size = x.size(0)\n",
        "\n",
        "        x = self.conv1(x)   #channels:1-32  w*h:28*28\n",
        "        x = self.bn1(x)\n",
        "        x = F.relu(x)\n",
        "        x = self.rblock1(x)\n",
        "\n",
        "        x = self.conv2(x)   #channels:32-64 w*h:28*28\n",
        "        x = F.relu(x)\n",
        "        x = self.bn2(x)\n",
        "        x = self.rblock2(x)\n",
        "\n",
        "        x = self.mp(x)      #最大池化,channels:64-64    w*h:28*28->14*14\n",
        "\n",
        "\n",
        "        x = self.conv3(x)   #channels:64-128    w*h:14*14\n",
        "        x = self.bn3(x)\n",
        "        x = F.relu(x)\n",
        "        x = self.rblock3(x)\n",
        "\n",
        "        x = self.conv4(x)   #channels:128-192   w*h:14*14\n",
        "        x = self.bn4(x)\n",
        "        x = F.relu(x)\n",
        "        x = self.rblock4(x)\n",
        "\n",
        "        x = self.mp(x)      #最大池化,channels:192-192  w*h:14*14->7*7\n",
        "\n",
        "        x = x.view(in_size, -1)     #展开成向量\n",
        "        x = F.relu(self.fc1(x))  # 使用relu函数来激活\n",
        "\n",
        "        return self.fc6(x)"
      ],
      "metadata": {
        "id": "MHShXIimut4u"
      },
      "execution_count": 4,
      "outputs": []
    },
    {
      "cell_type": "markdown",
      "source": [
        "## train"
      ],
      "metadata": {
        "id": "YFp2icPzrRr_"
      }
    },
    {
      "cell_type": "code",
      "source": [
        "#把训练封装成一个函数\n",
        "def train(epoch):\n",
        "    running_loss =0.0\n",
        "    for batch_idx,data in enumerate(train_loader,0):\n",
        "\n",
        "        if batch_idx%10 == 0:\n",
        "            continue\n",
        "\n",
        "        inputs,target = data\n",
        "        inputs,target = inputs.to(device),target.to(device)\n",
        "        optimizer.zero_grad()\n",
        "\n",
        "        #forward,backward,update\n",
        "        outputs = model(inputs)\n",
        "        loss = criterion(outputs,target)\n",
        "        loss.backward()\n",
        "        optimizer.step()\n",
        "\n",
        "        running_loss+=loss.item()\n",
        "        if batch_idx%300==299:\n",
        "            train_loss_val.append((running_loss/300))\n",
        "            #print('[%d,%5d] loss:%3f'%(epoch+1,batch_idx+1,running_loss/300))\n",
        "            print('[%d, %5d] loss: %.3f' % (epoch + 1, batch_idx + 1, running_loss / 300))\n",
        "            running_loss = 0.0\n"
      ],
      "metadata": {
        "id": "8bg5iRn3uyJJ"
      },
      "execution_count": 7,
      "outputs": []
    },
    {
      "cell_type": "code",
      "source": [
        "#把测试封装成函数\n",
        "def test():\n",
        "    correct = 0\n",
        "    total = 0\n",
        "    with torch.no_grad():\n",
        "        for data in test_loader:\n",
        "            images,labels = data\n",
        "            images, labels = images.to(device), labels.to(device)\n",
        "            outputs = model(images)\n",
        "            #torch.max()返回的是两个值，第一个是用_接受(蚌埠住了),第二个是pre\n",
        "            _, predicted = torch.max(outputs.data,dim=1)       #从第一维度开始搜索\n",
        "            total += labels.size(0)\n",
        "            correct += (predicted==labels).sum().item()\n",
        "    print('Accuracy on test set: %f %% [%d/%d]' % (100 * correct / total, correct, total))\n",
        "\n",
        "    return correct/total"
      ],
      "metadata": {
        "id": "jth3ZvAlu1qr"
      },
      "execution_count": 8,
      "outputs": []
    },
    {
      "cell_type": "code",
      "source": [
        "train_epoch = []\n",
        "model_accuracy = []\n",
        "temp_acc = 0.0\n",
        "train_loss_val = []\n",
        "for epoch in range(10):\n",
        "    train(epoch)\n",
        "    acc = test()\n",
        "\n",
        "    print(epoch + 1,acc)\n",
        "    train_epoch.append(epoch)\n",
        "    model_accuracy.append(acc)\n",
        "    scheduler.step(acc)\n",
        "\n",
        "plt.figure(1)\n",
        "plt.plot(train_epoch, model_accuracy)  # 传入列表，plt类用来画图\n",
        "plt.grid(linestyle=':')\n",
        "plt.ylabel('accuracy')  # 定义y坐标轴的名字\n",
        "plt.xlabel('epoch')  # 定义x坐标\n",
        "plt.show()  # 显示"
      ],
      "metadata": {
        "colab": {
          "base_uri": "https://localhost:8080/",
          "height": 814
        },
        "id": "34kTR8p9u9AM",
        "outputId": "16596f26-0673-4e89-ce2b-5117f692c717"
      },
      "execution_count": 9,
      "outputs": [
        {
          "output_type": "stream",
          "name": "stdout",
          "text": [
            "Accuracy on test set: 98.820000 % [9882/10000]\n",
            "1 0.9882\n",
            "Accuracy on test set: 99.330000 % [9933/10000]\n",
            "2 0.9933\n",
            "Accuracy on test set: 99.420000 % [9942/10000]\n",
            "3 0.9942\n",
            "Accuracy on test set: 99.280000 % [9928/10000]\n",
            "4 0.9928\n",
            "Accuracy on test set: 99.560000 % [9956/10000]\n",
            "5 0.9956\n",
            "Accuracy on test set: 99.190000 % [9919/10000]\n",
            "6 0.9919\n",
            "Accuracy on test set: 99.640000 % [9964/10000]\n",
            "7 0.9964\n",
            "Accuracy on test set: 99.480000 % [9948/10000]\n",
            "8 0.9948\n",
            "Accuracy on test set: 99.590000 % [9959/10000]\n",
            "9 0.9959\n",
            "Accuracy on test set: 99.440000 % [9944/10000]\n",
            "10 0.9944\n",
            "Epoch 00010: reducing learning rate of group 0 to 3.0000e-02.\n"
          ]
        },
        {
          "output_type": "display_data",
          "data": {
            "text/plain": [
              "<Figure size 640x480 with 1 Axes>"
            ],
            "image/png": "[encoded data removed]"
          },
          "metadata": {}
        }
      ]
    },
    {
      "cell_type": "markdown",
      "source": [
        "## 网络结构修改"
      ],
      "metadata": {
        "id": "chrA5i-Ds0be"
      }
    },
    {
      "cell_type": "code",
      "source": [
        "#调用GPU\n",
        "os.environ[\"KMP_DUPLICATE_LIB_OK\"] = \"TRUE\"\n",
        "torch.backends.cudnn.benchmark = True       #启用cudnn底层算法\n",
        "device = torch.device(\"cuda\" if torch.cuda.is_available() else \"cpu\")"
      ],
      "metadata": {
        "id": "67kJJO5uz-P3"
      },
      "execution_count": 26,
      "outputs": []
    },
    {
      "cell_type": "code",
      "source": [
        "#构建一个类线性模型类，继承自nn.Module,nn.m中封装了许多方法\n",
        "#本模型所用的包含库\n",
        "import torch\n",
        "import torch.nn as nn\n",
        "import torch.nn.functional as F\n",
        "import matplotlib.pyplot as plt\n",
        "import torchvision\n",
        "import numpy as np\n",
        "import torch.optim as optim\n",
        "from torch.utils.data import Dataset    #这是一个抽象类，无法实例化\n",
        "from torch.utils.data import DataLoader\n",
        "from torchvision import transforms\n",
        "from torchvision import datasets\n",
        "import os\n",
        "#构建一个compose类的实例，包含转tensor（张量），后面那个是标准化，两个参数分别是均值和标准差\n",
        "train_transform = transforms.Compose([\n",
        "                                transforms.RandomAffine(degrees = 0,translate=(0.1, 0.1)),#对照片进行随机平移\n",
        "                                transforms.RandomRotation((-10,10)),        #随机旋转\n",
        "                                transforms.ToTensor(),\n",
        "                                transforms.Normalize((0.1307,),(0.3081,))])\n",
        "test_transform = transforms.Compose([transforms.ToTensor(),\n",
        "                                    transforms.Normalize((0.1307,),(0.3081,))])\n",
        "#这2个值也是调参重灾区……\n",
        "train_batch_size = 256\n",
        "learning_rate = 0.06\n",
        "test_batch_size = 100\n",
        "random_seed = 2         # 随机种子，设置后可以得到稳定的随机数\n",
        "torch.manual_seed(random_seed)\n",
        "torch.cuda.manual_seed_all(random_seed) #为gpu提供随机数\n",
        "train_dataset = datasets.MNIST(root='./dataset/mnist/', train=True, download=False, transform=train_transform)\n",
        "test_dataset = datasets.MNIST(root='./dataset/mnist/', train=False, download=False, transform=test_transform)\n",
        "train_loader = DataLoader(dataset=train_dataset,batch_size=train_batch_size,shuffle=True,pin_memory=True)\n",
        "test_loader = DataLoader(dataset=test_dataset,batch_size=test_batch_size,shuffle=False,pin_memory=True)\n",
        "\n",
        "class ResidualBlock(nn.Module):\n",
        "    # Residual Block需要保证输出和输入通道数x一样\n",
        "    def __init__(self, channels):\n",
        "        super(ResidualBlock, self).__init__()\n",
        "        self.channels = channels\n",
        "        # 3*3卷积核，保证图像大小不变将padding设为1\n",
        "        # 第一个卷积\n",
        "        self.conv1 = nn.Conv2d(channels, channels,\n",
        "                               kernel_size=3, padding=1)\n",
        "        # 第二个卷积\n",
        "        self.conv2 = nn.Conv2d(channels, channels,\n",
        "                               kernel_size=3, padding=1)\n",
        "        #第三个卷积，1*1\n",
        "        self.conv3 = nn.Conv2d(channels, channels, kernel_size=1)\n",
        "\n",
        "    def forward(self, x):\n",
        "        # 激活\n",
        "        y = F.relu(self.conv1(x))\n",
        "        y = self.conv2(y)\n",
        "        # 先求和 后激活\n",
        "        z = self.conv3(x)\n",
        "        return F.relu(z + y)\n",
        "\n",
        "class Net(nn.Module):\n",
        "    def __init__(self):\n",
        "        super(Net, self).__init__()\n",
        "        #卷积层\n",
        "        self.conv1 = nn.Conv2d(1  ,32, kernel_size=5,padding=2)\n",
        "        self.conv2 = nn.Conv2d(32 ,64, kernel_size=5,padding=2)\n",
        "        self.conv3 = nn.Conv2d(64 ,128,kernel_size=5,padding=2)\n",
        "        self.conv4 = nn.Conv2d(128,192,kernel_size=5,padding=2)\n",
        "\n",
        "        #残差神经网络层，其中已经包含了relu\n",
        "        self.rblock1 = ResidualBlock(32)\n",
        "        self.rblock2 = ResidualBlock(64)\n",
        "        self.rblock3 = ResidualBlock(128)\n",
        "        self.rblock4 = ResidualBlock(192)\n",
        "\n",
        "        #BN层，归一化，使数据在进行Relu之前不会因为数据过大而导致网络性能的不稳定\n",
        "        self.bn1 = nn.BatchNorm2d(32)\n",
        "        self.bn2 = nn.BatchNorm2d(64)\n",
        "        self.bn3 = nn.BatchNorm2d(128)\n",
        "        self.bn4 = nn.BatchNorm2d(192)\n",
        "\n",
        "        #最大池化，一般最大池化效果都比平均池化好些\n",
        "        self.mp = nn.MaxPool2d(2)\n",
        "\n",
        "        #fully connectected全连接层\n",
        "        self.fc1 = nn.Linear(192*7*7, 256)  # 线性\n",
        "        self.fc6 = nn.Linear(256, 10)  # 线性\n",
        "\n",
        "    def forward(self, x, eps=1e-4):\n",
        "        in_size = x.size(0)\n",
        "\n",
        "        x = self.conv1(x)   #channels:1-32  w*h:28*28\n",
        "        x = self.bn1(x)\n",
        "        x = F.relu(x)\n",
        "        x = self.rblock1(x)\n",
        "\n",
        "        x = self.conv2(x)   #channels:32-64 w*h:28*28\n",
        "        x = F.relu(x)\n",
        "        x = self.bn2(x)\n",
        "        x = self.rblock2(x)\n",
        "        x = self.mp(x)      #最大池化,channels:64-64    w*h:28*28->14*14\n",
        "\n",
        "        x = self.conv3(x)   #channels:64-128    w*h:14*14\n",
        "        x = self.bn3(x)\n",
        "        x = F.relu(x)\n",
        "        x = self.rblock3(x)\n",
        "        x = self.conv4(x)   #channels:128-192   w*h:14*14\n",
        "        x = self.bn4(x)\n",
        "        x = F.relu(x)\n",
        "        x = self.rblock4(x)\n",
        "        x = self.mp(x)      #最大池化,channels:192-192  w*h:14*14->7*7\n",
        "\n",
        "        z = x.view(in_size, -1)     #展开成向量\n",
        "        out = self.fc6(F.relu(self.fc1(z)))\n",
        "\n",
        "        u = z.clone().detach()\n",
        "        y1 = self.fc6(F.relu(self.fc1(u)))\n",
        "        y2 = self.fc6(F.relu(self.fc1(u+eps)))\n",
        "        z_prime = (y2-y1)/eps\n",
        "\n",
        "        return out, z_prime"
      ],
      "metadata": {
        "id": "OJBvDz-Xsw7H"
      },
      "execution_count": 27,
      "outputs": []
    },
    {
      "cell_type": "markdown",
      "source": [
        "## 测试代码"
      ],
      "metadata": {
        "id": "HbMVwxX5sMEJ"
      }
    },
    {
      "cell_type": "code",
      "source": [
        "#把训练封装成一个函数\n",
        "def train(epoch, eps=1e-4, coef=0, thres=-5):\n",
        "    running_loss =0.0\n",
        "    for batch_idx,data in enumerate(train_loader,0):\n",
        "\n",
        "        if np.random.randn() < thres:\n",
        "            inputs,target = data\n",
        "            break\n",
        "\n",
        "        inputs,target = data\n",
        "        inputs,target = inputs.to(device),target.to(device)\n",
        "        optimizer.zero_grad()\n",
        "\n",
        "        #forward,backward,update\n",
        "        outputs, z_prime = model(inputs, eps=eps)\n",
        "        loss = criterion(outputs,target) + torch.sum(z_prime**2) * coef\n",
        "        loss.backward()\n",
        "        optimizer.step()\n",
        "\n",
        "\n",
        "        running_loss+=loss.item()\n",
        "        if batch_idx%300==299:\n",
        "            train_loss_val.append((running_loss/300))\n",
        "            #print('[%d,%5d] loss:%3f'%(epoch+1,batch_idx+1,running_loss/300))\n",
        "            print('[%d, %5d] loss: %.3f' % (epoch + 1, batch_idx + 1, running_loss / 300))\n",
        "            running_loss = 0.0\n",
        "\n",
        "\n",
        "#把测试封装成函数\n",
        "def test():\n",
        "    correct = 0\n",
        "    total = 0\n",
        "    with torch.no_grad():\n",
        "        for data in test_loader:\n",
        "            images, labels = data\n",
        "            images, labels = images.to(device), labels.to(device)\n",
        "            outputs, z_prime = model(images)\n",
        "            #torch.max()返回的是两个值，第一个是用_接受(蚌埠住了),第二个是pre\n",
        "            _, predicted = torch.max(outputs.data,dim=1)       #从第一维度开始搜索\n",
        "            total += labels.size(0)\n",
        "            correct += (predicted==labels).sum().item()\n",
        "            if np.random.randn(1) > 2:\n",
        "                tmp = torch.mean(z_prime**2)\n",
        "                print(f'repre grad loss {tmp}')\n",
        "    print('Accuracy on test set: %f %% [%d/%d]' % (100 * correct / total, correct, total))\n",
        "\n",
        "    return correct/total"
      ],
      "metadata": {
        "id": "8F6-xhb_u-2P"
      },
      "execution_count": 45,
      "outputs": []
    },
    {
      "cell_type": "markdown",
      "source": [],
      "metadata": {
        "id": "1XItL4lksrmu"
      }
    },
    {
      "cell_type": "code",
      "source": [
        "#print(device)\n",
        "torch.cuda.empty_cache()        #释放显存\n",
        "\n",
        "model = Net()\n",
        "model.to(device)\n",
        "\n",
        "# #构建损失函数\n",
        "criterion = torch.nn.CrossEntropyLoss()      #交叉熵\n",
        "#\n",
        "# #构建优化器,参数1：模型权重，参数二，learning rate\n",
        "optimizer = optim.SGD(model.parameters(),lr=learning_rate,momentum=0.5)    #带动量0.5\n",
        "\n",
        "#optimizer = optim.RMSprop(model.parameters(),lr=learning_rate,alpha=0.99,momentum = 0.5)\n",
        "# optimizer = torch.optim.Adam(model.parameters(),\n",
        "#                              lr=0.05,\n",
        "#                              betas=(0.9, 0.999),\n",
        "#                              eps=1e-08,\n",
        "#                              weight_decay=0,\n",
        "#                              amsgrad=False)\n",
        "#设置学习率梯度下降，如果连续2个epoch测试准确率没有上升，则降低学习率，系数0.5\n",
        "scheduler = optim.lr_scheduler.ReduceLROnPlateau(optimizer, mode='max', factor=0.5, patience=2, verbose=True, threshold=0.00005, threshold_mode='rel', cooldown=0, min_lr=0, eps=1e-08)\n",
        "\n",
        "train_epoch = []\n",
        "model_accuracy = []\n",
        "temp_acc = 0.0\n",
        "train_loss_val = []\n",
        "for epoch in range(10):\n",
        "    train(epoch, eps=1e-1*100, coef=1e-4 * 0)\n",
        "    acc = test()\n",
        "\n",
        "    print(f'epoch={epoch + 1}, acc={acc}')\n",
        "    train_epoch.append(epoch)\n",
        "    model_accuracy.append(acc)\n",
        "    scheduler.step(acc)\n",
        "\n",
        "plt.figure(1)\n",
        "plt.plot(train_epoch, model_accuracy)  # 传入列表，plt类用来画图\n",
        "plt.grid(linestyle=':')\n",
        "plt.ylabel('accuracy')  # 定义y坐标轴的名字\n",
        "plt.xlabel('epoch')  # 定义x坐标\n",
        "plt.show()  # 显示"
      ],
      "metadata": {
        "colab": {
          "base_uri": "https://localhost:8080/",
          "height": 1000
        },
        "id": "8soQ4yirvw7d",
        "outputId": "f88e8e49-e81b-415a-8015-9ecd995c6e4c"
      },
      "execution_count": 46,
      "outputs": [
        {
          "output_type": "stream",
          "name": "stdout",
          "text": [
            "repre grad loss 9.72244644165039\n",
            "repre grad loss 9.809561729431152\n",
            "Accuracy on test set: 99.050000 % [9905/10000]\n",
            "epoch=1, acc=0.9905\n",
            "repre grad loss 13.301817893981934\n",
            "repre grad loss 13.571625709533691\n",
            "Accuracy on test set: 99.150000 % [9915/10000]\n",
            "epoch=2, acc=0.9915\n",
            "repre grad loss 9.797003746032715\n",
            "repre grad loss 9.796246528625488\n",
            "Accuracy on test set: 99.230000 % [9923/10000]\n",
            "epoch=3, acc=0.9923\n",
            "repre grad loss 10.517037391662598\n",
            "Accuracy on test set: 99.130000 % [9913/10000]\n",
            "epoch=4, acc=0.9913\n",
            "Accuracy on test set: 99.530000 % [9953/10000]\n",
            "epoch=5, acc=0.9953\n",
            "repre grad loss 13.782278060913086\n",
            "Accuracy on test set: 99.230000 % [9923/10000]\n",
            "epoch=6, acc=0.9923\n",
            "repre grad loss 10.736647605895996\n",
            "Accuracy on test set: 99.520000 % [9952/10000]\n",
            "epoch=7, acc=0.9952\n",
            "repre grad loss 10.858465194702148\n",
            "repre grad loss 10.821358680725098\n",
            "Accuracy on test set: 99.510000 % [9951/10000]\n",
            "epoch=8, acc=0.9951\n",
            "Epoch 00008: reducing learning rate of group 0 to 3.0000e-02.\n",
            "repre grad loss 12.815287590026855\n",
            "repre grad loss 13.359661102294922\n",
            "repre grad loss 13.027612686157227\n",
            "repre grad loss 12.538509368896484\n",
            "Accuracy on test set: 99.680000 % [9968/10000]\n",
            "epoch=9, acc=0.9968\n",
            "repre grad loss 12.231964111328125\n",
            "repre grad loss 12.783758163452148\n",
            "Accuracy on test set: 99.570000 % [9957/10000]\n",
            "epoch=10, acc=0.9957\n"
          ]
        },
        {
          "output_type": "display_data",
          "data": {
            "text/plain": [
              "<Figure size 640x480 with 1 Axes>"
            ],
            "image/png": "[encoded data removed]"
          },
          "metadata": {}
        }
      ]
    },
    {
      "cell_type": "code",
      "source": [
        "for epoch in range(10):\n",
        "    train(epoch, eps=1e-5, coef=1e-4*0)\n",
        "    acc = test()\n",
        "\n",
        "    print(f'epoch={epoch + 1}, acc={acc}')\n",
        "    train_epoch.append(epoch)\n",
        "    model_accuracy.append(acc)\n",
        "    scheduler.step(acc)"
      ],
      "metadata": {
        "colab": {
          "base_uri": "https://localhost:8080/",
          "height": 240
        },
        "id": "Xm3kVZZ6vxaL",
        "outputId": "8a61c69e-ca70-4530-8c13-e9c7493c9e7c"
      },
      "execution_count": 1,
      "outputs": [
        {
          "output_type": "error",
          "ename": "NameError",
          "evalue": "ignored",
          "traceback": [
            "\u001b[0;31m---------------------------------------------------------------------------\u001b[0m",
            "\u001b[0;31mNameError\u001b[0m                                 Traceback (most recent call last)",
            "\u001b[0;32m<ipython-input-1-9b732c96f834>\u001b[0m in \u001b[0;36m<cell line: 1>\u001b[0;34m()\u001b[0m\n\u001b[1;32m      1\u001b[0m \u001b[0;32mfor\u001b[0m \u001b[0mepoch\u001b[0m \u001b[0;32min\u001b[0m \u001b[0mrange\u001b[0m\u001b[0;34m(\u001b[0m\u001b[0;36m10\u001b[0m\u001b[0;34m)\u001b[0m\u001b[0;34m:\u001b[0m\u001b[0;34m\u001b[0m\u001b[0;34m\u001b[0m\u001b[0m\n\u001b[0;32m----> 2\u001b[0;31m     \u001b[0mtrain\u001b[0m\u001b[0;34m(\u001b[0m\u001b[0mepoch\u001b[0m\u001b[0;34m,\u001b[0m \u001b[0meps\u001b[0m\u001b[0;34m=\u001b[0m\u001b[0;36m1e-5\u001b[0m\u001b[0;34m,\u001b[0m \u001b[0mcoef\u001b[0m\u001b[0;34m=\u001b[0m\u001b[0;36m1e-4\u001b[0m\u001b[0;34m*\u001b[0m\u001b[0;36m0\u001b[0m\u001b[0;34m)\u001b[0m\u001b[0;34m\u001b[0m\u001b[0;34m\u001b[0m\u001b[0m\n\u001b[0m\u001b[1;32m      3\u001b[0m     \u001b[0macc\u001b[0m \u001b[0;34m=\u001b[0m \u001b[0mtest\u001b[0m\u001b[0;34m(\u001b[0m\u001b[0;34m)\u001b[0m\u001b[0;34m\u001b[0m\u001b[0;34m\u001b[0m\u001b[0m\n\u001b[1;32m      4\u001b[0m \u001b[0;34m\u001b[0m\u001b[0m\n\u001b[1;32m      5\u001b[0m     \u001b[0mprint\u001b[0m\u001b[0;34m(\u001b[0m\u001b[0;34mf'epoch={epoch + 1}, acc={acc}'\u001b[0m\u001b[0;34m)\u001b[0m\u001b[0;34m\u001b[0m\u001b[0;34m\u001b[0m\u001b[0m\n",
            "\u001b[0;31mNameError\u001b[0m: name 'train' is not defined"
          ]
        }
      ]
    },
    {
      "cell_type": "code",
      "source": [],
      "metadata": {
        "id": "8pEPPaG1wZS_"
      },
      "execution_count": 37,
      "outputs": []
    }
  ]
}